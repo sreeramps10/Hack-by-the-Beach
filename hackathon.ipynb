{
  "cells": [
    {
      "cell_type": "code",
      "execution_count": 76,
      "metadata": {
        "id": "2TiHPsYHOkwN"
      },
      "outputs": [],
      "source": [
        "import pandas as pd\n",
        "import numpy as np\n",
        "import tensorflow as tf\n",
        "from sklearn.preprocessing import MinMaxScaler\n",
        "from tensorflow.keras.models import Sequential\n",
        "from tensorflow.keras.layers import Dense, LSTM, Dropout"
      ]
    },
    {
      "cell_type": "code",
      "execution_count": 77,
      "metadata": {
        "id": "w20O6avca122"
      },
      "outputs": [],
      "source": [
        "# Collect Data\n",
        "df = pd.read_csv('tata.csv')\n",
        "\n",
        "# Data Preprocessing\n",
        "scaler = MinMaxScaler()\n",
        "data = scaler.fit_transform(df[['Close']])\n",
        "train_size = int(len(data) * 0.8)\n",
        "train_data = data[:train_size]\n",
        "test_data = data[train_size:]\n",
        "\n",
        "def create_dataset(data, look_back):\n",
        "    X, y = [], []\n",
        "    for i in range(len(data)-look_back-1):\n",
        "        X.append(data[i:(i+look_back), 0])\n",
        "        y.append(data[i+look_back, 0])\n",
        "    return np.array(X), np.array(y)\n",
        "\n",
        "look_back = 30\n",
        "X_train, y_train = create_dataset(train_data, look_back)\n",
        "X_test, y_test = create_dataset(test_data, look_back)"
      ]
    },
    {
      "cell_type": "code",
      "source": [
        "# Building the Model\n",
        "model = Sequential([\n",
        "  LSTM(50, input_shape=(look_back, 1)),\n",
        "  Dropout(0.2),\n",
        "  Dense(1)\n",
        "])"
      ],
      "metadata": {
        "id": "12uMN5joLUWq"
      },
      "execution_count": 78,
      "outputs": []
    },
    {
      "cell_type": "code",
      "source": [
        "# Training the Model\n",
        "model.compile(optimizer='adam', loss= 'mean_squared_error')\n",
        "model.fit(X_train, y_train, epochs=100, batch_size=32)"
      ],
      "metadata": {
        "colab": {
          "base_uri": "https://localhost:8080/"
        },
        "id": "qK6uQ63xLWqk",
        "outputId": "76f31470-8e50-42cf-85e8-5bbdd0bf8cf8"
      },
      "execution_count": 79,
      "outputs": [
        {
          "output_type": "stream",
          "name": "stdout",
          "text": [
            "Epoch 1/100\n",
            "6/6 [==============================] - 2s 17ms/step - loss: 0.1803\n",
            "Epoch 2/100\n",
            "6/6 [==============================] - 0s 16ms/step - loss: 0.0516\n",
            "Epoch 3/100\n",
            "6/6 [==============================] - 0s 17ms/step - loss: 0.0164\n",
            "Epoch 4/100\n",
            "6/6 [==============================] - 0s 16ms/step - loss: 0.0228\n",
            "Epoch 5/100\n",
            "6/6 [==============================] - 0s 21ms/step - loss: 0.0135\n",
            "Epoch 6/100\n",
            "6/6 [==============================] - 0s 29ms/step - loss: 0.0146\n",
            "Epoch 7/100\n",
            "6/6 [==============================] - 0s 31ms/step - loss: 0.0133\n",
            "Epoch 8/100\n",
            "6/6 [==============================] - 0s 30ms/step - loss: 0.0136\n",
            "Epoch 9/100\n",
            "6/6 [==============================] - 0s 31ms/step - loss: 0.0117\n",
            "Epoch 10/100\n",
            "6/6 [==============================] - 0s 28ms/step - loss: 0.0113\n",
            "Epoch 11/100\n",
            "6/6 [==============================] - 0s 27ms/step - loss: 0.0112\n",
            "Epoch 12/100\n",
            "6/6 [==============================] - 0s 25ms/step - loss: 0.0115\n",
            "Epoch 13/100\n",
            "6/6 [==============================] - 0s 28ms/step - loss: 0.0103\n",
            "Epoch 14/100\n",
            "6/6 [==============================] - 0s 33ms/step - loss: 0.0103\n",
            "Epoch 15/100\n",
            "6/6 [==============================] - 0s 27ms/step - loss: 0.0104\n",
            "Epoch 16/100\n",
            "6/6 [==============================] - 0s 27ms/step - loss: 0.0095\n",
            "Epoch 17/100\n",
            "6/6 [==============================] - 0s 30ms/step - loss: 0.0100\n",
            "Epoch 18/100\n",
            "6/6 [==============================] - 0s 27ms/step - loss: 0.0105\n",
            "Epoch 19/100\n",
            "6/6 [==============================] - 0s 29ms/step - loss: 0.0089\n",
            "Epoch 20/100\n",
            "6/6 [==============================] - 0s 28ms/step - loss: 0.0087\n",
            "Epoch 21/100\n",
            "6/6 [==============================] - 0s 28ms/step - loss: 0.0088\n",
            "Epoch 22/100\n",
            "6/6 [==============================] - 0s 25ms/step - loss: 0.0088\n",
            "Epoch 23/100\n",
            "6/6 [==============================] - 0s 16ms/step - loss: 0.0082\n",
            "Epoch 24/100\n",
            "6/6 [==============================] - 0s 16ms/step - loss: 0.0077\n",
            "Epoch 25/100\n",
            "6/6 [==============================] - 0s 16ms/step - loss: 0.0085\n",
            "Epoch 26/100\n",
            "6/6 [==============================] - 0s 20ms/step - loss: 0.0080\n",
            "Epoch 27/100\n",
            "6/6 [==============================] - 0s 17ms/step - loss: 0.0085\n",
            "Epoch 28/100\n",
            "6/6 [==============================] - 0s 18ms/step - loss: 0.0065\n",
            "Epoch 29/100\n",
            "6/6 [==============================] - 0s 17ms/step - loss: 0.0075\n",
            "Epoch 30/100\n",
            "6/6 [==============================] - 0s 16ms/step - loss: 0.0083\n",
            "Epoch 31/100\n",
            "6/6 [==============================] - 0s 17ms/step - loss: 0.0087\n",
            "Epoch 32/100\n",
            "6/6 [==============================] - 0s 16ms/step - loss: 0.0074\n",
            "Epoch 33/100\n",
            "6/6 [==============================] - 0s 16ms/step - loss: 0.0077\n",
            "Epoch 34/100\n",
            "6/6 [==============================] - 0s 16ms/step - loss: 0.0063\n",
            "Epoch 35/100\n",
            "6/6 [==============================] - 0s 16ms/step - loss: 0.0072\n",
            "Epoch 36/100\n",
            "6/6 [==============================] - 0s 16ms/step - loss: 0.0073\n",
            "Epoch 37/100\n",
            "6/6 [==============================] - 0s 16ms/step - loss: 0.0069\n",
            "Epoch 38/100\n",
            "6/6 [==============================] - 0s 16ms/step - loss: 0.0076\n",
            "Epoch 39/100\n",
            "6/6 [==============================] - 0s 18ms/step - loss: 0.0074\n",
            "Epoch 40/100\n",
            "6/6 [==============================] - 0s 16ms/step - loss: 0.0068\n",
            "Epoch 41/100\n",
            "6/6 [==============================] - 0s 16ms/step - loss: 0.0070\n",
            "Epoch 42/100\n",
            "6/6 [==============================] - 0s 15ms/step - loss: 0.0066\n",
            "Epoch 43/100\n",
            "6/6 [==============================] - 0s 17ms/step - loss: 0.0071\n",
            "Epoch 44/100\n",
            "6/6 [==============================] - 0s 16ms/step - loss: 0.0070\n",
            "Epoch 45/100\n",
            "6/6 [==============================] - 0s 19ms/step - loss: 0.0065\n",
            "Epoch 46/100\n",
            "6/6 [==============================] - 0s 16ms/step - loss: 0.0069\n",
            "Epoch 47/100\n",
            "6/6 [==============================] - 0s 19ms/step - loss: 0.0062\n",
            "Epoch 48/100\n",
            "6/6 [==============================] - 0s 16ms/step - loss: 0.0076\n",
            "Epoch 49/100\n",
            "6/6 [==============================] - 0s 17ms/step - loss: 0.0067\n",
            "Epoch 50/100\n",
            "6/6 [==============================] - 0s 16ms/step - loss: 0.0066\n",
            "Epoch 51/100\n",
            "6/6 [==============================] - 0s 17ms/step - loss: 0.0065\n",
            "Epoch 52/100\n",
            "6/6 [==============================] - 0s 17ms/step - loss: 0.0063\n",
            "Epoch 53/100\n",
            "6/6 [==============================] - 0s 20ms/step - loss: 0.0061\n",
            "Epoch 54/100\n",
            "6/6 [==============================] - 0s 20ms/step - loss: 0.0068\n",
            "Epoch 55/100\n",
            "6/6 [==============================] - 0s 18ms/step - loss: 0.0061\n",
            "Epoch 56/100\n",
            "6/6 [==============================] - 0s 17ms/step - loss: 0.0076\n",
            "Epoch 57/100\n",
            "6/6 [==============================] - 0s 16ms/step - loss: 0.0061\n",
            "Epoch 58/100\n",
            "6/6 [==============================] - 0s 16ms/step - loss: 0.0059\n",
            "Epoch 59/100\n",
            "6/6 [==============================] - 0s 17ms/step - loss: 0.0059\n",
            "Epoch 60/100\n",
            "6/6 [==============================] - 0s 17ms/step - loss: 0.0063\n",
            "Epoch 61/100\n",
            "6/6 [==============================] - 0s 16ms/step - loss: 0.0058\n",
            "Epoch 62/100\n",
            "6/6 [==============================] - 0s 17ms/step - loss: 0.0061\n",
            "Epoch 63/100\n",
            "6/6 [==============================] - 0s 19ms/step - loss: 0.0053\n",
            "Epoch 64/100\n",
            "6/6 [==============================] - 0s 16ms/step - loss: 0.0053\n",
            "Epoch 65/100\n",
            "6/6 [==============================] - 0s 17ms/step - loss: 0.0061\n",
            "Epoch 66/100\n",
            "6/6 [==============================] - 0s 21ms/step - loss: 0.0054\n",
            "Epoch 67/100\n",
            "6/6 [==============================] - 0s 16ms/step - loss: 0.0061\n",
            "Epoch 68/100\n",
            "6/6 [==============================] - 0s 17ms/step - loss: 0.0058\n",
            "Epoch 69/100\n",
            "6/6 [==============================] - 0s 17ms/step - loss: 0.0064\n",
            "Epoch 70/100\n",
            "6/6 [==============================] - 0s 18ms/step - loss: 0.0054\n",
            "Epoch 71/100\n",
            "6/6 [==============================] - 0s 16ms/step - loss: 0.0059\n",
            "Epoch 72/100\n",
            "6/6 [==============================] - 0s 17ms/step - loss: 0.0059\n",
            "Epoch 73/100\n",
            "6/6 [==============================] - 0s 21ms/step - loss: 0.0061\n",
            "Epoch 74/100\n",
            "6/6 [==============================] - 0s 16ms/step - loss: 0.0058\n",
            "Epoch 75/100\n",
            "6/6 [==============================] - 0s 18ms/step - loss: 0.0056\n",
            "Epoch 76/100\n",
            "6/6 [==============================] - 0s 16ms/step - loss: 0.0053\n",
            "Epoch 77/100\n",
            "6/6 [==============================] - 0s 17ms/step - loss: 0.0063\n",
            "Epoch 78/100\n",
            "6/6 [==============================] - 0s 16ms/step - loss: 0.0056\n",
            "Epoch 79/100\n",
            "6/6 [==============================] - 0s 17ms/step - loss: 0.0052\n",
            "Epoch 80/100\n",
            "6/6 [==============================] - 0s 17ms/step - loss: 0.0053\n",
            "Epoch 81/100\n",
            "6/6 [==============================] - 0s 18ms/step - loss: 0.0058\n",
            "Epoch 82/100\n",
            "6/6 [==============================] - 0s 19ms/step - loss: 0.0053\n",
            "Epoch 83/100\n",
            "6/6 [==============================] - 0s 17ms/step - loss: 0.0052\n",
            "Epoch 84/100\n",
            "6/6 [==============================] - 0s 16ms/step - loss: 0.0060\n",
            "Epoch 85/100\n",
            "6/6 [==============================] - 0s 17ms/step - loss: 0.0065\n",
            "Epoch 86/100\n",
            "6/6 [==============================] - 0s 16ms/step - loss: 0.0059\n",
            "Epoch 87/100\n",
            "6/6 [==============================] - 0s 16ms/step - loss: 0.0057\n",
            "Epoch 88/100\n",
            "6/6 [==============================] - 0s 17ms/step - loss: 0.0059\n",
            "Epoch 89/100\n",
            "6/6 [==============================] - 0s 17ms/step - loss: 0.0050\n",
            "Epoch 90/100\n",
            "6/6 [==============================] - 0s 18ms/step - loss: 0.0058\n",
            "Epoch 91/100\n",
            "6/6 [==============================] - 0s 17ms/step - loss: 0.0050\n",
            "Epoch 92/100\n",
            "6/6 [==============================] - 0s 17ms/step - loss: 0.0054\n",
            "Epoch 93/100\n",
            "6/6 [==============================] - 0s 18ms/step - loss: 0.0060\n",
            "Epoch 94/100\n",
            "6/6 [==============================] - 0s 17ms/step - loss: 0.0051\n",
            "Epoch 95/100\n",
            "6/6 [==============================] - 0s 16ms/step - loss: 0.0051\n",
            "Epoch 96/100\n",
            "6/6 [==============================] - 0s 21ms/step - loss: 0.0054\n",
            "Epoch 97/100\n",
            "6/6 [==============================] - 0s 17ms/step - loss: 0.0053\n",
            "Epoch 98/100\n",
            "6/6 [==============================] - 0s 16ms/step - loss: 0.0050\n",
            "Epoch 99/100\n",
            "6/6 [==============================] - 0s 17ms/step - loss: 0.0052\n",
            "Epoch 100/100\n",
            "6/6 [==============================] - 0s 16ms/step - loss: 0.0051\n"
          ]
        },
        {
          "output_type": "execute_result",
          "data": {
            "text/plain": [
              "<keras.callbacks.History at 0x7fdaaeef7e20>"
            ]
          },
          "metadata": {},
          "execution_count": 79
        }
      ]
    },
    {
      "cell_type": "code",
      "source": [
        "# Evaluating the Model\n",
        "train_predict = model.predict(X_train)\n",
        "test_predict = model.predict(X_test)\n",
        "train_predict = scaler.inverse_transform(train_predict)\n",
        "y_train = scaler.inverse_transform([y_train])\n",
        "test_predict = scaler.inverse_transform(test_predict)\n",
        "y_test = scaler.inverse_transform([y_test])\n",
        "rmse_train = np.sqrt(np.mean((train_predict - y_train)**2))\n",
        "rmse_test = np.sqrt(np.mean((test_predict - y_test)**2))"
      ],
      "metadata": {
        "colab": {
          "base_uri": "https://localhost:8080/"
        },
        "id": "UGIDhUlDLY11",
        "outputId": "6b732157-0c87-479f-ff8c-05ef082abf3b"
      },
      "execution_count": 80,
      "outputs": [
        {
          "output_type": "stream",
          "name": "stdout",
          "text": [
            "6/6 [==============================] - 0s 6ms/step\n",
            "1/1 [==============================] - 0s 25ms/step\n"
          ]
        }
      ]
    },
    {
      "cell_type": "code",
      "source": [
        "# Making Predictions\n",
        "last_60_days = data[-60:]\n",
        "X_test = []\n",
        "X_test.append(last_60_days)\n",
        "X_test = np.array(X_test)\n",
        "X_test = np.reshape(X_test, (X_test.shape[0], X_test.shape[1], 1))\n",
        "pred_price = model.predict(X_test)\n",
        "pred_price = scaler.inverse_transform(pred_price)\n",
        "print(\"Predicted Price: \", pred_price)"
      ],
      "metadata": {
        "colab": {
          "base_uri": "https://localhost:8080/"
        },
        "id": "rtkqgbhKLawg",
        "outputId": "9a44135e-d6d1-4f93-9752-69804982f504"
      },
      "execution_count": 81,
      "outputs": [
        {
          "output_type": "stream",
          "name": "stdout",
          "text": [
            "1/1 [==============================] - 0s 438ms/step\n",
            "Predicted Price:  [[103.9654]]\n"
          ]
        }
      ]
    },
    {
      "cell_type": "code",
      "source": [],
      "metadata": {
        "id": "Jg8Y1tOPPN_s"
      },
      "execution_count": 32,
      "outputs": []
    }
  ],
  "metadata": {
    "colab": {
      "provenance": []
    },
    "kernelspec": {
      "display_name": "Python 3",
      "name": "python3"
    },
    "language_info": {
      "name": "python"
    }
  },
  "nbformat": 4,
  "nbformat_minor": 0
}